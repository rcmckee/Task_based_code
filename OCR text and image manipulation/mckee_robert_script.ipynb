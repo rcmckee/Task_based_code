{
 "cells": [
  {
   "attachments": {},
   "cell_type": "markdown",
   "metadata": {},
   "source": [
    "# import"
   ]
  },
  {
   "cell_type": "code",
   "execution_count": 1,
   "metadata": {},
   "outputs": [],
   "source": [
    "import cv2\n",
    "import numpy as np\n",
    "from collections import Counter\n",
    "\n",
    "import cv2\n",
    "\n",
    "\n",
    "from skimage import io \n",
    "\n",
    "import pytesseract\n",
    "\n",
    "from PIL import Image, ImageEnhance \n",
    "import json"
   ]
  },
  {
   "attachments": {},
   "cell_type": "markdown",
   "metadata": {},
   "source": [
    "# find vertical line"
   ]
  },
  {
   "cell_type": "code",
   "execution_count": 9,
   "metadata": {},
   "outputs": [],
   "source": [
    "\n",
    "def return_index_of_first_vertical_line_in_image(image_path) -> int:\n",
    "    # open image\n",
    "    if \"jpeg\" in image_path:\n",
    "        image = io.imread(image_path)\n",
    "    else:\n",
    "        image = image_path\n",
    "    # Apply adaptive threshold\n",
    "\n",
    "    image_thr = cv2.adaptiveThreshold(image, 255, cv2.THRESH_BINARY_INV, cv2.ADAPTIVE_THRESH_GAUSSIAN_C, 51, 0)  # try this for text\n",
    "\n",
    "    # Apply morphological opening with vertical line kernel\n",
    "    kernel = np.ones((image.shape[0], 1), dtype=np.uint8) * 255\n",
    "    image_mop = cv2.morphologyEx(image_thr, cv2.MORPH_OPEN, kernel)\n",
    "\n",
    "    line_index = np.where(image_mop[0][20:80] == 255)[0] # 20 is to crop out number maybe\n",
    "\n",
    "    if len(line_index) > 0:\n",
    "        return line_index[0] + 20\n",
    "\n",
    "    else:\n",
    "        index_values = []\n",
    "        for i in image[:40]:\n",
    "            index_of_black_pixel = np.where(i[20:80] == 0)[0]\n",
    "            if len(index_of_black_pixel) > 0:\n",
    "                index_values.extend([p + 20 for p in index_of_black_pixel])\n",
    "        return Counter(index_values).most_common(1)[0][0]\n",
    "    "
   ]
  },
  {
   "attachments": {},
   "cell_type": "markdown",
   "metadata": {},
   "source": [
    "# get rows from image"
   ]
  },
  {
   "cell_type": "code",
   "execution_count": 10,
   "metadata": {},
   "outputs": [],
   "source": [
    "\n",
    "def get_six_rows_from_image(image_path) ->list:\n",
    "    \"\"\"\n",
    "    ex: get_six_rows_from_image(\"./path/testimage1.jpeg\")\n",
    "    use \"./testimage1.jpeg\" if file is in same directory as script\n",
    "    ***include file extension***\n",
    "    \"\"\"\n",
    "    im = Image.open(image_path)\n",
    "    height_of_rows = int(im.getbbox()[3]/6)\n",
    "    image_right = im.getbbox()[2]\n",
    "    image_left = return_index_of_first_vertical_line_in_image(image_path)\n",
    "    image_lower = height_of_rows\n",
    "    image_top = 0\n",
    "\n",
    "    image_data = []\n",
    "    for j in range(1,7):\n",
    "\n",
    "        box = (image_left, image_top, image_right, image_lower)\n",
    "\n",
    "        image_top = image_lower\n",
    "        image_lower = image_lower + height_of_rows\n",
    "        region = im.crop(box)\n",
    "        image_data.append(region)\n",
    "\n",
    "    return image_data\n"
   ]
  },
  {
   "attachments": {},
   "cell_type": "markdown",
   "metadata": {},
   "source": [
    "# split rows into columns"
   ]
  },
  {
   "cell_type": "code",
   "execution_count": 11,
   "metadata": {},
   "outputs": [],
   "source": [
    "\n",
    "def get_columns_from_row(image_data_row,num_of_columns) -> list:\n",
    "    im = image_data_row\n",
    "\n",
    "    row_squares = []\n",
    "    box_width = im.getbbox()[2] /num_of_columns\n",
    "    image_height = im.getbbox()[3]\n",
    "\n",
    "    box = (0 , 0,  box_width, image_height)\n",
    "    #columns 1-7\n",
    "    for i in range(8):\n",
    "        row_squares.append(im.crop(box))\n",
    "        box = (box[0] + box_width, 0, box[2] + box_width, image_height)\n",
    "    \n",
    "    #columns 8 and 9\n",
    "    box = (box[0], 0, box[2] + box_width + int(box_width*.25), image_height)\n",
    "    row_squares.append(im.crop(box))\n",
    "\n",
    "    # columns 10 - 13\n",
    "    box = (box[2], 0, box[2] + box_width, image_height)\n",
    "    for i in range(4):\n",
    "        row_squares.append(im.crop(box))\n",
    "        box = (box[0] + box_width, 0, box[2] + box_width, image_height)\n",
    "\n",
    "    # column 14 and 15\n",
    "    box = (box[0], 0, box[2] + box_width , image_height)\n",
    "    row_squares.append(im.crop(box))\n",
    "    #column 16 and 17\n",
    "    box = (box[2], 0, box[2] + box_width*1.7 , image_height)\n",
    "    row_squares.append(im.crop(box))\n",
    "    # column 18 and 19\n",
    "    box = (box[2], 0, box[2] + box_width, image_height)\n",
    "    for i in range(4):\n",
    "        row_squares.append(im.crop(box))\n",
    "        box = (box[0] + box_width, 0, box[2] + box_width, image_height)\n",
    "\n",
    "    \n",
    "    return row_squares\n",
    "\n",
    "\n",
    "def get_text_from_square(image_square, num_only=False) -> list:\n",
    "    imenhance = ImageEnhance.Sharpness(image_square)\n",
    "    im = imenhance.enhance(5.0)\n",
    "    if num_only == True:\n",
    "        return pytesseract.image_to_string(np.asarray(im),  config=\"outputbase digits\")           # pass preprocessed image to tesseract\n",
    "    else:\n",
    "        return pytesseract.image_to_string(np.asarray(im),  config=\"\")\n"
   ]
  },
  {
   "cell_type": "code",
   "execution_count": 12,
   "metadata": {},
   "outputs": [],
   "source": [
    "def process_images_return_dict(image_folder_path,num_images_to_process):\n",
    "    \"\"\"\n",
    "    ex: process_images_return_dict('./Images',5)\n",
    "    \"\"\"\n",
    "        \n",
    "    image_data_dict = {}\n",
    "    for i in range(1,num_images_to_process+1):\n",
    "        file_name = f'{image_folder_path}/testimage{i}.jpeg'\n",
    "        key = f'testimage{i}'\n",
    "        image_rows = get_six_rows_from_image(file_name)\n",
    "        image_rows_columns = [get_columns_from_row(row,20) for row in image_rows]\n",
    "        image_text_data = []\n",
    "        for row in image_rows_columns:\n",
    "            row_data = []\n",
    "            for c,column in enumerate(row):\n",
    "                if 6 < c < 17:\n",
    "                    row_data.append(get_text_from_square(column, num_only=False))\n",
    "                else:\n",
    "                    row_data.append(get_text_from_square(column, num_only=True))\n",
    "\n",
    "            # clean row_data\n",
    "            row_data = [i.replace('\\x0c','').replace('\\n','').replace('\\f','').replace('\\u201c','') for i in row_data]\n",
    "            image_text_data.append(row_data)\n",
    "        image_data_dict[key] = image_text_data\n",
    "\n",
    "    return image_data_dict\n"
   ]
  },
  {
   "attachments": {},
   "cell_type": "markdown",
   "metadata": {},
   "source": [
    "# export to json"
   ]
  },
  {
   "cell_type": "code",
   "execution_count": 13,
   "metadata": {},
   "outputs": [],
   "source": [
    "export_data = process_images_return_dict('./Images',5)"
   ]
  },
  {
   "cell_type": "code",
   "execution_count": 14,
   "metadata": {},
   "outputs": [],
   "source": [
    "# Convert the dictionary to a JSON string\n",
    "json_data = json.dumps(export_data)\n",
    "\n",
    "# Open a file and write the JSON string to it\n",
    "with open('mckee_robert_results.json', 'w') as f:\n",
    "    f.write(json_data)"
   ]
  },
  {
   "cell_type": "code",
   "execution_count": null,
   "metadata": {},
   "outputs": [],
   "source": []
  }
 ],
 "metadata": {
  "kernelspec": {
   "display_name": "base",
   "language": "python",
   "name": "python3"
  },
  "language_info": {
   "codemirror_mode": {
    "name": "ipython",
    "version": 3
   },
   "file_extension": ".py",
   "mimetype": "text/x-python",
   "name": "python",
   "nbconvert_exporter": "python",
   "pygments_lexer": "ipython3",
   "version": "3.9.12"
  },
  "orig_nbformat": 4
 },
 "nbformat": 4,
 "nbformat_minor": 2
}
