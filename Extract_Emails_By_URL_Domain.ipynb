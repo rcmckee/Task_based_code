{
  "cells": [
    {
      "cell_type": "markdown",
      "metadata": {
        "id": "view-in-github",
        "colab_type": "text"
      },
      "source": [
        "<a href=\"https://colab.research.google.com/github/rcmckee/Task_based_code/blob/main/Extract_Emails_By_URL_Domain.ipynb\" target=\"_parent\"><img src=\"https://colab.research.google.com/assets/colab-badge.svg\" alt=\"Open In Colab\"/></a>"
      ]
    },
    {
      "cell_type": "code",
      "execution_count": 2,
      "metadata": {
        "colab": {
          "base_uri": "https://localhost:8080/"
        },
        "id": "lIYdn1woOS1n",
        "outputId": "bd9a9eb1-515c-4363-ca98-32a8cd163e27"
      },
      "outputs": [
        {
          "output_type": "stream",
          "name": "stdout",
          "text": [
            "Looking in indexes: https://pypi.org/simple, https://us-python.pkg.dev/colab-wheels/public/simple/\n",
            "Collecting emailfinder\n",
            "  Downloading emailfinder-0.3.0b0-py3-none-any.whl (23 kB)\n",
            "Collecting prompt-toolkit>=3.0.5\n",
            "  Downloading prompt_toolkit-3.0.38-py3-none-any.whl (385 kB)\n",
            "\u001b[2K     \u001b[90m━━━━━━━━━━━━━━━━━━━━━━━━━━━━━━━━━━━━━━━\u001b[0m \u001b[32m385.8/385.8 KB\u001b[0m \u001b[31m8.7 MB/s\u001b[0m eta \u001b[36m0:00:00\u001b[0m\n",
            "\u001b[?25hRequirement already satisfied: urllib3>=1.26.4 in /usr/local/lib/python3.9/dist-packages (from emailfinder) (1.26.15)\n",
            "Requirement already satisfied: beautifulsoup4>=4.9.3 in /usr/local/lib/python3.9/dist-packages (from emailfinder) (4.11.2)\n",
            "Collecting pyfiglet>=0.8.post1\n",
            "  Downloading pyfiglet-0.8.post1-py2.py3-none-any.whl (865 kB)\n",
            "\u001b[2K     \u001b[90m━━━━━━━━━━━━━━━━━━━━━━━━━━━━━━━━━━━━━━\u001b[0m \u001b[32m865.8/865.8 KB\u001b[0m \u001b[31m29.1 MB/s\u001b[0m eta \u001b[36m0:00:00\u001b[0m\n",
            "\u001b[?25hRequirement already satisfied: requests>=2.25.1 in /usr/local/lib/python3.9/dist-packages (from emailfinder) (2.27.1)\n",
            "Requirement already satisfied: soupsieve>1.2 in /usr/local/lib/python3.9/dist-packages (from beautifulsoup4>=4.9.3->emailfinder) (2.4)\n",
            "Requirement already satisfied: wcwidth in /usr/local/lib/python3.9/dist-packages (from prompt-toolkit>=3.0.5->emailfinder) (0.2.6)\n",
            "Requirement already satisfied: certifi>=2017.4.17 in /usr/local/lib/python3.9/dist-packages (from requests>=2.25.1->emailfinder) (2022.12.7)\n",
            "Requirement already satisfied: charset-normalizer~=2.0.0 in /usr/local/lib/python3.9/dist-packages (from requests>=2.25.1->emailfinder) (2.0.12)\n",
            "Requirement already satisfied: idna<4,>=2.5 in /usr/local/lib/python3.9/dist-packages (from requests>=2.25.1->emailfinder) (3.4)\n",
            "Installing collected packages: pyfiglet, prompt-toolkit, emailfinder\n",
            "  Attempting uninstall: prompt-toolkit\n",
            "    Found existing installation: prompt-toolkit 2.0.10\n",
            "    Uninstalling prompt-toolkit-2.0.10:\n",
            "      Successfully uninstalled prompt-toolkit-2.0.10\n",
            "\u001b[31mERROR: pip's dependency resolver does not currently take into account all the packages that are installed. This behaviour is the source of the following dependency conflicts.\n",
            "ipython 7.9.0 requires jedi>=0.10, which is not installed.\n",
            "ipython 7.9.0 requires prompt-toolkit<2.1.0,>=2.0.0, but you have prompt-toolkit 3.0.38 which is incompatible.\u001b[0m\u001b[31m\n",
            "\u001b[0mSuccessfully installed emailfinder-0.3.0b0 prompt-toolkit-3.0.38 pyfiglet-0.8.post1\n"
          ]
        }
      ],
      "source": [
        "pip install emailfinder"
      ]
    },
    {
      "cell_type": "code",
      "source": [
        "from emailfinder.extractor import *\n",
        "\n",
        "\n",
        "emails1 = get_emails_from_google(\"cannformatics.com\")\n",
        "emails2 = get_emails_from_bing(\"cannformatics.com\")\n",
        "emails3 = get_emails_from_baidu(\"cannformatics.com\")"
      ],
      "metadata": {
        "id": "VsacPxAlIObs",
        "outputId": "69dd278d-f7dc-48b4-dfdb-064f56918fcc",
        "colab": {
          "base_uri": "https://localhost:8080/"
        }
      },
      "execution_count": 3,
      "outputs": [
        {
          "output_type": "stream",
          "name": "stderr",
          "text": [
            "Warning: Output is not to a terminal (fd=1).\n"
          ]
        }
      ]
    },
    {
      "cell_type": "code",
      "source": [
        "emails1"
      ],
      "metadata": {
        "id": "V9bTPlC3IWYO",
        "outputId": "346e6678-c09b-45a3-9b10-285cb0fd08be",
        "colab": {
          "base_uri": "https://localhost:8080/"
        }
      },
      "execution_count": 4,
      "outputs": [
        {
          "output_type": "execute_result",
          "data": {
            "text/plain": [
              "['info@cannformatics.com',\n",
              " 'x22ken@cannformatics.com',\n",
              " 'kxx@cannformatics.com',\n",
              " 'x22Info@cannformatics.com',\n",
              " 'partner@cannformatics.com',\n",
              " 'ken@cannformatics.com',\n",
              " 'itzhak@cannformatics.com',\n",
              " 'jane@cannformatics.com',\n",
              " 'Info@cannformatics.com']"
            ]
          },
          "metadata": {},
          "execution_count": 4
        }
      ]
    },
    {
      "cell_type": "code",
      "source": [
        "emails2"
      ],
      "metadata": {
        "id": "zS37MiS1IZRM",
        "outputId": "90434af7-0a8a-4ab9-8f46-1a233fe65942",
        "colab": {
          "base_uri": "https://localhost:8080/"
        }
      },
      "execution_count": 5,
      "outputs": [
        {
          "output_type": "execute_result",
          "data": {
            "text/plain": [
              "['info@cannformatics.com']"
            ]
          },
          "metadata": {},
          "execution_count": 5
        }
      ]
    },
    {
      "cell_type": "code",
      "source": [
        "emails3"
      ],
      "metadata": {
        "id": "_IIHWhPJIfkG",
        "outputId": "a9be6f9c-e893-438b-eb9f-1ec7eac2bf30",
        "colab": {
          "base_uri": "https://localhost:8080/"
        }
      },
      "execution_count": 6,
      "outputs": [
        {
          "output_type": "execute_result",
          "data": {
            "text/plain": [
              "[]"
            ]
          },
          "metadata": {},
          "execution_count": 6
        }
      ]
    },
    {
      "cell_type": "code",
      "source": [],
      "metadata": {
        "id": "4HSk6gE0Ig4Y"
      },
      "execution_count": null,
      "outputs": []
    }
  ],
  "metadata": {
    "colab": {
      "name": "scratchpad",
      "provenance": [],
      "include_colab_link": true
    },
    "kernelspec": {
      "display_name": "Python 3",
      "name": "python3"
    }
  },
  "nbformat": 4,
  "nbformat_minor": 0
}